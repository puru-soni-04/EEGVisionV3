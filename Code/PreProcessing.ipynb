{
 "cells": [
  {
   "cell_type": "code",
   "execution_count": null,
   "metadata": {},
   "outputs": [],
   "source": [
    "import matplotlib\n",
    "matplotlib.use('qtAgg')\n",
    "import mne\n",
    "import sklearn\n",
    "import matplotlib.pyplot as plt\n",
    "import pandas as pd\n",
    "from mne.preprocessing import ICA\n"
   ]
  },
  {
   "cell_type": "code",
   "execution_count": null,
   "metadata": {},
   "outputs": [],
   "source": [
    "data = pd.read_csv(r'../Data/Pre Processed Data/Cleaned/cleaned_data_2023-03-24_11-25-42.csv')\n",
    "\n",
    "CHANNEL_NAMES = data.columns.values.tolist()\n",
    "CHANNEL_TYPES = ['misc', 'misc'] + ['eeg']*16\n",
    "SAMPLING_RATE = 125\n",
    "\n",
    "info = mne.create_info(ch_names=CHANNEL_NAMES, ch_types=CHANNEL_TYPES, sfreq=SAMPLING_RATE)\n",
    "\n",
    "raw = mne.io.RawArray(data=data.values.T, info=info)\n",
    "raw.filter(1, None)\n",
    "raw"
   ]
  },
  {
   "cell_type": "code",
   "execution_count": null,
   "metadata": {},
   "outputs": [],
   "source": [
    "# Plot the raw data\n",
    "raw.plot(scalings='auto', title='Data from arrays', show=True, block=True)"
   ]
  },
  {
   "cell_type": "code",
   "execution_count": null,
   "metadata": {},
   "outputs": [],
   "source": [
    "ica = ICA(n_components=16, random_state=97).fit(raw)\n",
    "raw_clean = ica.apply(raw)\n",
    "raw_clean.plot(scalings='auto', title='Data from arrays', show=True, block=True)"
   ]
  },
  {
   "cell_type": "code",
   "execution_count": null,
   "metadata": {},
   "outputs": [],
   "source": []
  }
 ],
 "metadata": {
  "kernelspec": {
   "display_name": "EEGVision",
   "language": "python",
   "name": "python3"
  },
  "language_info": {
   "codemirror_mode": {
    "name": "ipython",
    "version": 3
   },
   "file_extension": ".py",
   "mimetype": "text/x-python",
   "name": "python",
   "nbconvert_exporter": "python",
   "pygments_lexer": "ipython3",
   "version": "3.10.10"
  },
  "orig_nbformat": 4
 },
 "nbformat": 4,
 "nbformat_minor": 2
}
